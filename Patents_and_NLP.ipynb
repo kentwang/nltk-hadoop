{
 "metadata": {
  "name": "",
  "signature": "sha256:90e34428bf778f590afd68af850547bba0d6f3b51da367b7117aec3bb187c7b4"
 },
 "nbformat": 3,
 "nbformat_minor": 0,
 "worksheets": [
  {
   "cells": [
    {
     "cell_type": "markdown",
     "metadata": {},
     "source": [
      "# Large scale with NLTK\n",
      "\n",
      "- best approach appears to be hadoop streaming\n",
      "http://datacommunitydc.org/blog/2013/05/nltk-hadoop/\n",
      "http://blog.cloudera.com/blog/2010/03/natural-language-processing-with-hadoop-and-python/\n",
      "\n",
      "## Steps\n",
      "\n",
      "1. run basic workflow on some dataset locally\n",
      "2. install hadoop streaming\n",
      "3. run the basic workflow on hadoop streaming\n",
      "\n",
      "## Installing\n",
      "\n",
      "- sampa:\n",
      "```sh\n",
      "pip install nltk\n",
      "export NLTK_DATA=/sampa/share/nltk_data\n",
      "python -m nltk.downloader book -d $NLTK_DATA\n",
      "```\n",
      "\n",
      "## Stuff\n",
      "- corpora: http://www.nltk.org/book/ch02.html\n",
      "- cosine similarity of tfidf of documents \n",
      "    - tfidf example http://www.cs.duke.edu/courses/spring14/compsci290/assignments/lab02.html\n",
      "    - cosine sim api: http://scikit-learn.org/stable/modules/metrics.html\n",
      "    - cosine sim in mr: http://halalhassan.wordpress.com/2013/08/31/cosine-similarity-in-mapreduce-hadoop/"
     ]
    },
    {
     "cell_type": "markdown",
     "metadata": {},
     "source": [
      "# Citations (DanH/Jevin)\n",
      "- computing a Least common ancestor on JSTOR citations\n",
      "    - MyriaL really slow because reachable graph then all common ancestors then pick one\n",
      "- ideas:\n",
      "    - socialite style recursive aggregates with delta stepping?\n",
      "    - Grappa directly\n",
      "- according to literature, all pairs LCA seems complexity is n^3 but you can get to n^2.xx"
     ]
    },
    {
     "cell_type": "markdown",
     "metadata": {},
     "source": [
      "# Tasks \n",
      "\n",
      "## Zach\n",
      "tf-idf on hadoop streaming standalone mode\n",
      "\n",
      "## Brandon\n",
      "get hadoop streaming working distributed on sampa cluster\n",
      "\n",
      "\n",
      "## Need\n",
      "the claims data\n"
     ]
    },
    {
     "cell_type": "code",
     "collapsed": false,
     "input": [],
     "language": "python",
     "metadata": {},
     "outputs": []
    }
   ],
   "metadata": {}
  }
 ]
}